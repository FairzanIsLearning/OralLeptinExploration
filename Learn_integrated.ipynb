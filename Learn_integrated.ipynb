{
 "cells": [
  {
   "cell_type": "code",
   "execution_count": 169,
   "id": "65464c57",
   "metadata": {},
   "outputs": [],
   "source": [
    "import peptides\n",
    "import Bio\n",
    "\n",
    "# RDKit modules >> general chemistry\n",
    "from rdkit import Chem\n",
    "from rdkit.Chem import Draw\n",
    "\n",
    "# PepFuNN modules\n",
    "from pepfunn.library import Library\n",
    "from pepfunn.sequence import Sequence"
   ]
  },
  {
   "cell_type": "code",
   "execution_count": 170,
   "id": "b3e3283f",
   "metadata": {},
   "outputs": [],
   "source": [
    "# function to make a BILN default generator\n",
    "def BILN_generate(FASTA):\n",
    "    separator = '-'\n",
    "    res = ''\n",
    "    for i in range(0, len(FASTA), 1):\n",
    "        res += FASTA[i:i + 1] + separator\n",
    "    # remove the trailing separator\n",
    "    res = res[:-1]\n",
    "    return res"
   ]
  },
  {
   "cell_type": "code",
   "execution_count": null,
   "id": "99e27742",
   "metadata": {},
   "outputs": [],
   "source": [
    "\n",
    "# original sequence in FASTA format\n",
    "\n",
    "WholeLeptinSeq = \"MHWGTLCGFLWLWPYLFYVQAVPIQKVQDDTKTLIKTIVTRINDISHTQSVSSKQKVTGLDFIPGLHPILTLSKMDQTLAVYQQILTSMPSRNVIQISNDLENLRDLLHVLAFSKSCHLPWASGLETLDSLGGVLEASGYSTEVVALSRLQGSLQDMLWQLDLSPGC\"\n",
    "EssLeptinSeq = \"SCHLPWASGLETLDS\"\n",
    "\n",
    "# and its helm notation, for specific modification\n",
    "Whole_helm = \"PEPTIDE1{M.H.W.G.T.L.C.G.F.L.W.L.W.P.Y.L.F.Y.V.Q.A.V.P.I.Q.K.V.QD.D.T.K.T.L.I.K.T.I.V.T.R.I.N.D.I.S.H.T.Q.S.V.S.S.K.Q.K.V.T.G.L.D.F.I.P.G.L.H.P.I.L.T.L.S.K.M.D.Q.T.L.A.V.Y.Q.Q.I.L.T.S.M.P.S.R.N.V.I.Q.I.S.N.D.L.E.N.L.R.D.L.L.H.V.L.A.F.S.K.S.C.H.L.P.W.A.S.G.L.E.T.L.D.S.L.G.G.V.L.E.A.S.G.Y.S.T.E.V.V.A.L.S.R.L.Q.G.S.L.Q.D.M.L.W.Q.L.D.L.S.P.G.C}$$$$V2.0\"\n",
    "Ess_helm = \"PEPTIDE1{S.C.H.L.P.W.A.S.G.L.E.T.L.D.S}$$$$V2.0\"\n"
   ]
  },
  {
   "cell_type": "code",
   "execution_count": null,
   "id": "1a2452bf",
   "metadata": {},
   "outputs": [],
   "source": [
    "#pept converter py\n",
    "# b = Converter(helm=Ess_helm)\n",
    "# biln = b.get_biln()\n",
    "# seq = Sequence(biln)"
   ]
  },
  {
   "cell_type": "code",
   "execution_count": 173,
   "id": "a45f005b",
   "metadata": {},
   "outputs": [],
   "source": [
    "# convert to other denominator etc\n",
    "Whole_peptides = peptides.Peptide(WholeLeptinSeq)\n",
    "Whole_pepFuNN = Sequence(WholeLeptinSeq)\n",
    "Whole_biln = BILN_generate(WholeLeptinSeq)\n",
    "\n",
    "Ess_peptides = peptides.Peptide(EssLeptinSeq)\n",
    "Ess_pepFuNN = Sequence(EssLeptinSeq)\n",
    "Ess_biln = BILN_generate(EssLeptinSeq)"
   ]
  },
  {
   "cell_type": "code",
   "execution_count": 204,
   "id": "8383fe29",
   "metadata": {},
   "outputs": [],
   "source": [
    "# which peptide to analyze?\n",
    "Analyzed_pep = Ess_peptides"
   ]
  },
  {
   "cell_type": "code",
   "execution_count": 205,
   "id": "c3560e2e",
   "metadata": {},
   "outputs": [
    {
     "name": "stdout",
     "output_type": "stream",
     "text": [
      "Molecular weight of the peptide: 1.61577774 kDa\n"
     ]
    }
   ],
   "source": [
    "# identity\n",
    "MW = Analyzed_pep.molecular_weight()\n",
    "\n",
    "print(f'Molecular weight of the peptide: {MW/1000} kDa')\n"
   ]
  },
  {
   "cell_type": "code",
   "execution_count": 206,
   "id": "efa07cdf",
   "metadata": {},
   "outputs": [
    {
     "name": "stdout",
     "output_type": "stream",
     "text": [
      "analyzed peptide sequence: Peptide('SCHLPWASGLETLDS')\n",
      "pH on 7: -2.1082586720962655\n",
      "isoelectric point on pH: 4.181120614055544, When the pH of the solvent is equal to the pI of the protein, it tends to precipitate.\n",
      "peptide charge: -1.9708597187227053\n",
      "hydrophobicity: -0.03333333333333341\n",
      "instability_index: 66.54, a value above 40 predicts that the protein may be unstable.\n"
     ]
    }
   ],
   "source": [
    "# Physical properties\n",
    "pH = Analyzed_pep.charge(pH=7.4)\n",
    "pI = Analyzed_pep.isoelectric_point()\n",
    "charge = Analyzed_pep.charge(pKscale=\"Lehninger\")\n",
    "hydrophobicity = Analyzed_pep.hydrophobicity()\n",
    "instability_index = Analyzed_pep.instability_index()\n",
    "\n",
    "print(f'analyzed peptide sequence: {Analyzed_pep}')\n",
    "print(f'pH on 7: {pH}')\n",
    "print(f'isoelectric point on pH: {pI}, When the pH of the solvent is equal to the pI of the protein, it tends to precipitate.')\n",
    "print(f'peptide charge: {charge}')\n",
    "print(f'hydrophobicity: {hydrophobicity}')\n",
    "print(f'instability_index: {instability_index}, a value above 40 predicts that the protein may be unstable.')"
   ]
  },
  {
   "cell_type": "code",
   "execution_count": null,
   "id": "318e0a79",
   "metadata": {},
   "outputs": [],
   "source": []
  }
 ],
 "metadata": {
  "kernelspec": {
   "display_name": "Peptide_Design",
   "language": "python",
   "name": "python3"
  },
  "language_info": {
   "codemirror_mode": {
    "name": "ipython",
    "version": 3
   },
   "file_extension": ".py",
   "mimetype": "text/x-python",
   "name": "python",
   "nbconvert_exporter": "python",
   "pygments_lexer": "ipython3",
   "version": "3.13.7"
  }
 },
 "nbformat": 4,
 "nbformat_minor": 5
}
